{
 "cells": [
  {
   "cell_type": "code",
   "execution_count": 14,
   "metadata": {
    "collapsed": true
   },
   "outputs": [],
   "source": [
    "import os\n",
    "from pathlib import Path\n",
    "\n",
    "if 'root' not in locals():\n",
    "    current_dir = os.getcwd()\n",
    "\n",
    "os.chdir('..')"
   ]
  },
  {
   "cell_type": "code",
   "execution_count": 58,
   "outputs": [],
   "source": [
    "def get_files(path: str, dico: dict, deepness=1)->str:\n",
    "    for el in os.listdir(path):\n",
    "        if os.path.isdir(path+\"/\"+el):\n",
    "            print(deepness*'-'+el)\n",
    "            if len(os.listdir((path+\"/\"+el)))>0:\n",
    "                dico[el]=({},deepness)\n",
    "                get_files(path+\"/\"+el,deepness=deepness+1, dico=dico)\n",
    "        else : \n",
    "            print(deepness*'-'+el)\n",
    "            type = el.split('.')[-1]\n",
    "            try: dico[path.split('/')[-1]][0][type]+=1\n",
    "            except KeyError : dico[path.split('/')[-1]][0][type]=1\n",
    "    return dico"
   ],
   "metadata": {
    "collapsed": false,
    "pycharm": {
     "name": "#%%\n"
    }
   }
  },
  {
   "cell_type": "code",
   "execution_count": 59,
   "outputs": [
    {
     "name": "stdout",
     "output_type": "stream",
     "text": [
      "-.DS_Store\n",
      "-data_1\n",
      "--.DS_Store\n",
      "--test\n",
      "---.DS_Store\n",
      "---imgs\n",
      "----.DS_Store\n",
      "----creeper_2.jpg\n",
      "----person_3.jpg\n",
      "----person_1.jpg\n",
      "--train\n",
      "---.DS_Store\n",
      "---imgs\n",
      "----.DS_Store\n",
      "----creeper_3.jpg\n",
      "----person_4.jpg\n",
      "----creeper_1.jpg\n",
      "----person_2.jpg\n",
      "-data_2\n",
      "--.DS_Store\n",
      "--creeper_2.jpg\n",
      "--creeper_3.jpg\n",
      "--person_4.jpg\n",
      "--creeper_1.jpg\n",
      "--person_3.jpg\n",
      "--person_2.jpg\n",
      "--person_1.jpg\n"
     ]
    },
    {
     "data": {
      "text/plain": "{'mockDataFiles': ({'DS_Store': 1}, 0),\n 'data_1': ({'DS_Store': 1}, 1),\n 'test': ({'DS_Store': 1}, 2),\n 'imgs': ({'DS_Store': 1, 'jpg': 4}, 3),\n 'train': ({'DS_Store': 1}, 2),\n 'data_2': ({'DS_Store': 1, 'jpg': 7}, 1)}"
     },
     "execution_count": 59,
     "metadata": {},
     "output_type": "execute_result"
    }
   ],
   "source": [
    "get_files('dataloaders/mockDataFiles',{'mockDataFiles':({},0)})\n",
    "\n"
   ],
   "metadata": {
    "collapsed": false,
    "pycharm": {
     "name": "#%%\n"
    }
   }
  },
  {
   "cell_type": "code",
   "execution_count": 17,
   "outputs": [
    {
     "data": {
      "text/plain": "'/Users/g0bel1n/PycharmProjects/atlas-python'"
     },
     "execution_count": 17,
     "metadata": {},
     "output_type": "execute_result"
    }
   ],
   "source": [
    "os.getcwd()\n",
    "\n"
   ],
   "metadata": {
    "collapsed": false,
    "pycharm": {
     "name": "#%%\n"
    }
   }
  },
  {
   "cell_type": "code",
   "execution_count": null,
   "outputs": [],
   "source": [],
   "metadata": {
    "collapsed": false,
    "pycharm": {
     "name": "#%%\n"
    }
   }
  }
 ],
 "metadata": {
  "kernelspec": {
   "display_name": "Python 3",
   "language": "python",
   "name": "python3"
  },
  "language_info": {
   "codemirror_mode": {
    "name": "ipython",
    "version": 2
   },
   "file_extension": ".py",
   "mimetype": "text/x-python",
   "name": "python",
   "nbconvert_exporter": "python",
   "pygments_lexer": "ipython2",
   "version": "2.7.6"
  }
 },
 "nbformat": 4,
 "nbformat_minor": 0
}